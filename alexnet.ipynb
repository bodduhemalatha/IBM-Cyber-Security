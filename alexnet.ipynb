{
  "nbformat": 4,
  "nbformat_minor": 0,
  "metadata": {
    "colab": {
      "provenance": [],
      "authorship_tag": "ABX9TyMFUat56j6v8vOqoi1mr0lQ",
      "include_colab_link": true
    },
    "kernelspec": {
      "name": "python3",
      "display_name": "Python 3"
    },
    "language_info": {
      "name": "python"
    }
  },
  "cells": [
    {
      "cell_type": "markdown",
      "metadata": {
        "id": "view-in-github",
        "colab_type": "text"
      },
      "source": [
        "<a href=\"https://colab.research.google.com/github/bodduhemalatha/IBM-Cyber-Security/blob/main/alexnet.ipynb\" target=\"_parent\"><img src=\"https://colab.research.google.com/assets/colab-badge.svg\" alt=\"Open In Colab\"/></a>"
      ]
    },
    {
      "cell_type": "code",
      "execution_count": 1,
      "metadata": {
        "colab": {
          "base_uri": "https://localhost:8080/",
          "height": 36
        },
        "id": "wmsrxjQprODA",
        "outputId": "5593b96b-2cca-4dee-a1ac-bc33cbee62df"
      },
      "outputs": [
        {
          "output_type": "execute_result",
          "data": {
            "text/plain": [
              "'2.14.0'"
            ],
            "application/vnd.google.colaboratory.intrinsic+json": {
              "type": "string"
            }
          },
          "metadata": {},
          "execution_count": 1
        }
      ],
      "source": [
        "import keras\n",
        "keras.__version__"
      ]
    },
    {
      "cell_type": "code",
      "source": [
        "from keras.datasets import reuters\n",
        "\n",
        "(train_data, train_labels), (test_data, test_labels) = reuters.load_data(num_words=10000)"
      ],
      "metadata": {
        "id": "X9lmFvBftWL-"
      },
      "execution_count": 2,
      "outputs": []
    },
    {
      "cell_type": "code",
      "source": [
        "len(train_data)"
      ],
      "metadata": {
        "colab": {
          "base_uri": "https://localhost:8080/"
        },
        "id": "oUnN5osctZit",
        "outputId": "2e1452db-db22-4e96-d1fe-524c556cfd87"
      },
      "execution_count": 6,
      "outputs": [
        {
          "output_type": "execute_result",
          "data": {
            "text/plain": [
              "8982"
            ]
          },
          "metadata": {},
          "execution_count": 6
        }
      ]
    },
    {
      "cell_type": "code",
      "source": [
        "len(test_data)"
      ],
      "metadata": {
        "colab": {
          "base_uri": "https://localhost:8080/"
        },
        "id": "VQs-om07tcc-",
        "outputId": "c3519ad9-0483-4f7b-bb60-159a5fddd76e"
      },
      "execution_count": 4,
      "outputs": [
        {
          "output_type": "execute_result",
          "data": {
            "text/plain": [
              "2246"
            ]
          },
          "metadata": {},
          "execution_count": 4
        }
      ]
    },
    {
      "cell_type": "code",
      "source": [
        "train_data[10]"
      ],
      "metadata": {
        "colab": {
          "base_uri": "https://localhost:8080/"
        },
        "id": "IoNZAKqUtgt8",
        "outputId": "ce709677-35c5-4ca0-84f7-cbc176fc49c8"
      },
      "execution_count": 5,
      "outputs": [
        {
          "output_type": "execute_result",
          "data": {
            "text/plain": [
              "[1,\n",
              " 245,\n",
              " 273,\n",
              " 207,\n",
              " 156,\n",
              " 53,\n",
              " 74,\n",
              " 160,\n",
              " 26,\n",
              " 14,\n",
              " 46,\n",
              " 296,\n",
              " 26,\n",
              " 39,\n",
              " 74,\n",
              " 2979,\n",
              " 3554,\n",
              " 14,\n",
              " 46,\n",
              " 4689,\n",
              " 4329,\n",
              " 86,\n",
              " 61,\n",
              " 3499,\n",
              " 4795,\n",
              " 14,\n",
              " 61,\n",
              " 451,\n",
              " 4329,\n",
              " 17,\n",
              " 12]"
            ]
          },
          "metadata": {},
          "execution_count": 5
        }
      ]
    },
    {
      "cell_type": "code",
      "source": [
        "word_index = reuters.get_word_index()\n",
        "reverse_word_index = dict([(value, key) for (key, value) in word_index.items()])\n",
        "decoded_newswire = ' '.join([reverse_word_index.get(i - 3, '?') for i in train_data[0]])"
      ],
      "metadata": {
        "colab": {
          "base_uri": "https://localhost:8080/"
        },
        "id": "lsNd2QLitlqk",
        "outputId": "60f7f8ff-206f-439a-c917-da623fb4ae01"
      },
      "execution_count": 7,
      "outputs": [
        {
          "output_type": "stream",
          "name": "stdout",
          "text": [
            "Downloading data from https://storage.googleapis.com/tensorflow/tf-keras-datasets/reuters_word_index.json\n",
            "550378/550378 [==============================] - 0s 1us/step\n"
          ]
        }
      ]
    },
    {
      "cell_type": "code",
      "source": [
        "decoded_newswire"
      ],
      "metadata": {
        "colab": {
          "base_uri": "https://localhost:8080/",
          "height": 70
        },
        "id": "bNGHBdIDtotl",
        "outputId": "df5c758a-4950-41fe-c7e5-1c13cdea305e"
      },
      "execution_count": 8,
      "outputs": [
        {
          "output_type": "execute_result",
          "data": {
            "text/plain": [
              "'? ? ? said as a result of its december acquisition of space co it expects earnings per share in 1987 of 1 15 to 1 30 dlrs per share up from 70 cts in 1986 the company said pretax net should rise to nine to 10 mln dlrs from six mln dlrs in 1986 and rental operation revenues to 19 to 22 mln dlrs from 12 5 mln dlrs it said cash flow per share this year should be 2 50 to three dlrs reuter 3'"
            ],
            "application/vnd.google.colaboratory.intrinsic+json": {
              "type": "string"
            }
          },
          "metadata": {},
          "execution_count": 8
        }
      ]
    },
    {
      "cell_type": "code",
      "source": [
        "train_labels[10]"
      ],
      "metadata": {
        "colab": {
          "base_uri": "https://localhost:8080/"
        },
        "id": "JfpRn9h5tsPM",
        "outputId": "f19abbc6-4ca9-49f3-dc0a-c44dd2aead57"
      },
      "execution_count": 9,
      "outputs": [
        {
          "output_type": "execute_result",
          "data": {
            "text/plain": [
              "3"
            ]
          },
          "metadata": {},
          "execution_count": 9
        }
      ]
    },
    {
      "cell_type": "code",
      "source": [
        "import numpy as np\n",
        "def vectorize_sequences(sequences, dimension=10000):\n",
        "    results = np.zeros((len(sequences), dimension))\n",
        "    for i, sequence in enumerate(sequences):\n",
        "        results[i, sequence] = 1.\n",
        "    return results\n",
        "x_train = vectorize_sequences(train_data)\n",
        "x_test = vectorize_sequences(test_data)\n",
        "\n",
        "x_train,x_train.shape,x_train.ndim"
      ],
      "metadata": {
        "colab": {
          "base_uri": "https://localhost:8080/"
        },
        "id": "CrKSlrZ1tw_z",
        "outputId": "41e10a53-00ef-44ca-b2ca-9e6b827b2c3c"
      },
      "execution_count": 12,
      "outputs": [
        {
          "output_type": "execute_result",
          "data": {
            "text/plain": [
              "(array([[0., 1., 1., ..., 0., 0., 0.],\n",
              "        [0., 1., 1., ..., 0., 0., 0.],\n",
              "        [0., 1., 1., ..., 0., 0., 0.],\n",
              "        ...,\n",
              "        [0., 1., 1., ..., 0., 0., 0.],\n",
              "        [0., 1., 1., ..., 0., 0., 0.],\n",
              "        [0., 1., 1., ..., 0., 0., 0.]]),\n",
              " (8982, 10000),\n",
              " 2)"
            ]
          },
          "metadata": {},
          "execution_count": 12
        }
      ]
    },
    {
      "cell_type": "code",
      "source": [
        "import numpy as np\n",
        "\n",
        "def vectorize_sequences(sequences, dimension=10):\n",
        "    results = np.zeros((len(sequences), dimension))\n",
        "    for i, sequence in enumerate(sequences):\n",
        "        results[i, sequence] = 1.\n",
        "    return results\n",
        "data=[1,2,4,9,0]\n",
        "x= vectorize_sequences(data)\n",
        "x,x.shape,x.ndim"
      ],
      "metadata": {
        "colab": {
          "base_uri": "https://localhost:8080/"
        },
        "id": "8IUo9Tsit0YD",
        "outputId": "fbc3275c-a154-4a25-f222-5561d3939ed6"
      },
      "execution_count": 13,
      "outputs": [
        {
          "output_type": "execute_result",
          "data": {
            "text/plain": [
              "(array([[0., 1., 0., 0., 0., 0., 0., 0., 0., 0.],\n",
              "        [0., 0., 1., 0., 0., 0., 0., 0., 0., 0.],\n",
              "        [0., 0., 0., 0., 1., 0., 0., 0., 0., 0.],\n",
              "        [0., 0., 0., 0., 0., 0., 0., 0., 0., 1.],\n",
              "        [1., 0., 0., 0., 0., 0., 0., 0., 0., 0.]]),\n",
              " (5, 10),\n",
              " 2)"
            ]
          },
          "metadata": {},
          "execution_count": 13
        }
      ]
    },
    {
      "cell_type": "code",
      "source": [
        "def to_one_hot(labels, dimension=46):\n",
        "    results = np.zeros((len(labels), dimension))\n",
        "    for i, label in enumerate(labels):\n",
        "        results[i, label] = 1.\n",
        "    return results\n",
        "one_hot_train_labels = to_one_hot(train_labels)\n",
        "one_hot_test_labels = to_one_hot(test_labels)\n",
        "one_hot_train_labels,one_hot_train_labels.shape,one_hot_train_labels.ndim"
      ],
      "metadata": {
        "colab": {
          "base_uri": "https://localhost:8080/"
        },
        "id": "qB1hbOiyt3o8",
        "outputId": "35d19fb5-b605-41b2-bce8-3af4163a6d0c"
      },
      "execution_count": 14,
      "outputs": [
        {
          "output_type": "execute_result",
          "data": {
            "text/plain": [
              "(array([[0., 0., 0., ..., 0., 0., 0.],\n",
              "        [0., 0., 0., ..., 0., 0., 0.],\n",
              "        [0., 0., 0., ..., 0., 0., 0.],\n",
              "        ...,\n",
              "        [0., 0., 0., ..., 0., 0., 0.],\n",
              "        [0., 0., 0., ..., 0., 0., 0.],\n",
              "        [0., 0., 0., ..., 0., 0., 0.]]),\n",
              " (8982, 46),\n",
              " 2)"
            ]
          },
          "metadata": {},
          "execution_count": 14
        }
      ]
    },
    {
      "cell_type": "code",
      "source": [
        "from keras.utils import to_categorical\n",
        "\n",
        "one_hot_train_labels = to_categorical(train_labels)\n",
        "one_hot_test_labels = to_categorical(test_labels)"
      ],
      "metadata": {
        "id": "BD6i5AwOt6_N"
      },
      "execution_count": 15,
      "outputs": []
    },
    {
      "cell_type": "code",
      "source": [
        "from keras import models\n",
        "from keras import layers\n",
        "\n",
        "model = models.Sequential()\n",
        "model.add(layers.Dense(64, activation='relu', input_shape=(10000,)))\n",
        "model.add(layers.Dense(64, activation='relu'))\n",
        "model.add(layers.Dense(46, activation='softmax'))"
      ],
      "metadata": {
        "id": "BunZbxtguoYE"
      },
      "execution_count": 16,
      "outputs": []
    },
    {
      "cell_type": "code",
      "source": [
        "model.compile(optimizer='rmsprop',\n",
        "              loss='categorical_crossentropy',\n",
        "              metrics=['accuracy'])"
      ],
      "metadata": {
        "id": "hL2Nwq9yurx9"
      },
      "execution_count": 17,
      "outputs": []
    },
    {
      "cell_type": "code",
      "source": [
        "x_val = x_train[:1000]\n",
        "partial_x_train = x_train[1000:]\n",
        "\n",
        "y_val = one_hot_train_labels[:1000]\n",
        "partial_y_train = one_hot_train_labels[1000:]"
      ],
      "metadata": {
        "id": "Nbey8DIXuvNs"
      },
      "execution_count": 18,
      "outputs": []
    },
    {
      "cell_type": "code",
      "source": [
        "history = model.fit(partial_x_train,\n",
        "                    partial_y_train,\n",
        "                    epochs=20,\n",
        "                    batch_size=512,\n",
        "                    validation_data=(x_val, y_val))"
      ],
      "metadata": {
        "colab": {
          "base_uri": "https://localhost:8080/"
        },
        "id": "0KKPi4ywuzDd",
        "outputId": "992b6a60-cbca-43a2-a9a0-581cdfa9606f"
      },
      "execution_count": 19,
      "outputs": [
        {
          "output_type": "stream",
          "name": "stdout",
          "text": [
            "Epoch 1/20\n",
            "16/16 [==============================] - 3s 119ms/step - loss: 2.7265 - accuracy: 0.5005 - val_loss: 1.8230 - val_accuracy: 0.6170\n",
            "Epoch 2/20\n",
            "16/16 [==============================] - 1s 51ms/step - loss: 1.5430 - accuracy: 0.6708 - val_loss: 1.3730 - val_accuracy: 0.6850\n",
            "Epoch 3/20\n",
            "16/16 [==============================] - 1s 50ms/step - loss: 1.1750 - accuracy: 0.7423 - val_loss: 1.2001 - val_accuracy: 0.7200\n",
            "Epoch 4/20\n",
            "16/16 [==============================] - 1s 49ms/step - loss: 0.9616 - accuracy: 0.7957 - val_loss: 1.0644 - val_accuracy: 0.7680\n",
            "Epoch 5/20\n",
            "16/16 [==============================] - 1s 49ms/step - loss: 0.7969 - accuracy: 0.8296 - val_loss: 1.0004 - val_accuracy: 0.7920\n",
            "Epoch 6/20\n",
            "16/16 [==============================] - 1s 48ms/step - loss: 0.6638 - accuracy: 0.8557 - val_loss: 0.9337 - val_accuracy: 0.8040\n",
            "Epoch 7/20\n",
            "16/16 [==============================] - 1s 49ms/step - loss: 0.5536 - accuracy: 0.8799 - val_loss: 0.9098 - val_accuracy: 0.8110\n",
            "Epoch 8/20\n",
            "16/16 [==============================] - 1s 48ms/step - loss: 0.4691 - accuracy: 0.8984 - val_loss: 0.8818 - val_accuracy: 0.8140\n",
            "Epoch 9/20\n",
            "16/16 [==============================] - 1s 50ms/step - loss: 0.3921 - accuracy: 0.9146 - val_loss: 0.8732 - val_accuracy: 0.8200\n",
            "Epoch 10/20\n",
            "16/16 [==============================] - 1s 50ms/step - loss: 0.3329 - accuracy: 0.9287 - val_loss: 0.8972 - val_accuracy: 0.8160\n",
            "Epoch 11/20\n",
            "16/16 [==============================] - 1s 49ms/step - loss: 0.2896 - accuracy: 0.9385 - val_loss: 0.8673 - val_accuracy: 0.8280\n",
            "Epoch 12/20\n",
            "16/16 [==============================] - 1s 48ms/step - loss: 0.2574 - accuracy: 0.9405 - val_loss: 0.8603 - val_accuracy: 0.8260\n",
            "Epoch 13/20\n",
            "16/16 [==============================] - 1s 48ms/step - loss: 0.2240 - accuracy: 0.9473 - val_loss: 0.8735 - val_accuracy: 0.8270\n",
            "Epoch 14/20\n",
            "16/16 [==============================] - 1s 63ms/step - loss: 0.2015 - accuracy: 0.9516 - val_loss: 0.8728 - val_accuracy: 0.8310\n",
            "Epoch 15/20\n",
            "16/16 [==============================] - 1s 82ms/step - loss: 0.1844 - accuracy: 0.9518 - val_loss: 0.8772 - val_accuracy: 0.8340\n",
            "Epoch 16/20\n",
            "16/16 [==============================] - 1s 81ms/step - loss: 0.1691 - accuracy: 0.9541 - val_loss: 0.9085 - val_accuracy: 0.8120\n",
            "Epoch 17/20\n",
            "16/16 [==============================] - 1s 49ms/step - loss: 0.1589 - accuracy: 0.9559 - val_loss: 0.9074 - val_accuracy: 0.8140\n",
            "Epoch 18/20\n",
            "16/16 [==============================] - 1s 49ms/step - loss: 0.1529 - accuracy: 0.9525 - val_loss: 0.9136 - val_accuracy: 0.8300\n",
            "Epoch 19/20\n",
            "16/16 [==============================] - 1s 48ms/step - loss: 0.1406 - accuracy: 0.9558 - val_loss: 0.9140 - val_accuracy: 0.8170\n",
            "Epoch 20/20\n",
            "16/16 [==============================] - 1s 47ms/step - loss: 0.1344 - accuracy: 0.9582 - val_loss: 0.9421 - val_accuracy: 0.8220\n"
          ]
        }
      ]
    },
    {
      "cell_type": "code",
      "source": [
        "import matplotlib.pyplot as plt\n",
        "\n",
        "loss = history.history['loss']\n",
        "val_loss = history.history['val_loss']\n",
        "\n",
        "epochs = range(1, len(loss) + 1)\n",
        "\n",
        "plt.plot(epochs, loss, 'bo', label='Training loss')\n",
        "plt.plot(epochs, val_loss, 'b', label='Validation loss')\n",
        "plt.title('Training and validation loss')\n",
        "plt.xlabel('Epochs')\n",
        "plt.ylabel('Loss')\n",
        "plt.legend()\n",
        "\n",
        "plt.show()"
      ],
      "metadata": {
        "colab": {
          "base_uri": "https://localhost:8080/",
          "height": 477
        },
        "id": "69hngdAuu32o",
        "outputId": "c5f70da8-854d-442c-b08f-65ae91b70988"
      },
      "execution_count": null,
      "outputs": [
        {
          "output_type": "display_data",
          "data": {
            "text/plain": [
              "<Figure size 640x480 with 1 Axes>"
            ],
            "image/png": "[encoded data removed]"
          },
          "metadata": {}
        }
      ]
    },
    {
      "cell_type": "code",
      "source": [
        "plt.clf()\n",
        "import matplotlib.pyplot as plt\n",
        "\n",
        "acc = history.history['acc']\n",
        "val_acc = history.history['val_acc']\n",
        "\n",
        "plt.plot(epochs, acc, 'bo', label='Training acc')\n",
        "plt.plot(epochs, val_acc, 'b', label='Validation acc')\n",
        "plt.title('Training and validation accuracy')\n",
        "plt.xlabel('Epochs')\n",
        "plt.ylabel('Loss')\n",
        "plt.legend()\n",
        "\n",
        "plt.show()"
      ],
      "metadata": {
        "colab": {
          "base_uri": "https://localhost:8080/",
          "height": 262
        },
        "id": "tgp8fTX_u82o",
        "outputId": "f7eff3fc-f963-400c-afef-ad84ff0711c6"
      },
      "execution_count": null,
      "outputs": [
        {
          "output_type": "error",
          "ename": "KeyError",
          "evalue": "ignored",
          "traceback": [
            "\u001b[0;31m---------------------------------------------------------------------------\u001b[0m",
            "\u001b[0;31mKeyError\u001b[0m                                  Traceback (most recent call last)",
            "\u001b[0;32m<ipython-input-20-e9c901d81e9e>\u001b[0m in \u001b[0;36m<cell line: 3>\u001b[0;34m()\u001b[0m\n\u001b[1;32m      1\u001b[0m \u001b[0mplt\u001b[0m\u001b[0;34m.\u001b[0m\u001b[0mclf\u001b[0m\u001b[0;34m(\u001b[0m\u001b[0;34m)\u001b[0m   \u001b[0;31m# clear figure\u001b[0m\u001b[0;34m\u001b[0m\u001b[0;34m\u001b[0m\u001b[0m\n\u001b[1;32m      2\u001b[0m \u001b[0;34m\u001b[0m\u001b[0m\n\u001b[0;32m----> 3\u001b[0;31m \u001b[0macc\u001b[0m \u001b[0;34m=\u001b[0m \u001b[0mhistory\u001b[0m\u001b[0;34m.\u001b[0m\u001b[0mhistory\u001b[0m\u001b[0;34m[\u001b[0m\u001b[0;34m'acc'\u001b[0m\u001b[0;34m]\u001b[0m\u001b[0;34m\u001b[0m\u001b[0;34m\u001b[0m\u001b[0m\n\u001b[0m\u001b[1;32m      4\u001b[0m \u001b[0mval_acc\u001b[0m \u001b[0;34m=\u001b[0m \u001b[0mhistory\u001b[0m\u001b[0;34m.\u001b[0m\u001b[0mhistory\u001b[0m\u001b[0;34m[\u001b[0m\u001b[0;34m'val_acc'\u001b[0m\u001b[0;34m]\u001b[0m\u001b[0;34m\u001b[0m\u001b[0;34m\u001b[0m\u001b[0m\n\u001b[1;32m      5\u001b[0m \u001b[0;34m\u001b[0m\u001b[0m\n",
            "\u001b[0;31mKeyError\u001b[0m: 'acc'"
          ]
        },
        {
          "output_type": "display_data",
          "data": {
            "text/plain": [
              "<Figure size 640x480 with 0 Axes>"
            ]
          },
          "metadata": {}
        }
      ]
    },
    {
      "cell_type": "code",
      "source": [
        "model = models.Sequential()\n",
        "model.add(layers.Dense(64, activation='relu', input_shape=(10000,)))\n",
        "model.add(layers.Dense(64, activation='relu'))\n",
        "model.add(layers.Dense(46, activation='softmax'))\n",
        "\n",
        "model.compile(optimizer='rmsprop',\n",
        "              loss='categorical_crossentropy',\n",
        "              metrics=['accuracy'])\n",
        "model.fit(partial_x_train,\n",
        "          partial_y_train,\n",
        "          epochs=8,\n",
        "          batch_size=512,\n",
        "          validation_data=(x_val, y_val))\n",
        "results = model.evaluate(x_test, one_hot_test_labels)"
      ],
      "metadata": {
        "colab": {
          "base_uri": "https://localhost:8080/"
        },
        "id": "klxpj6qsvEV1",
        "outputId": "9d530984-dc9f-4807-c365-9cd073014823"
      },
      "execution_count": null,
      "outputs": [
        {
          "output_type": "stream",
          "name": "stdout",
          "text": [
            "Epoch 1/8\n",
            "16/16 [==============================] - 1s 38ms/step - loss: 2.7164 - accuracy: 0.4539 - val_loss: 1.8083 - val_accuracy: 0.6090\n",
            "Epoch 2/8\n",
            "16/16 [==============================] - 0s 29ms/step - loss: 1.5481 - accuracy: 0.6725 - val_loss: 1.3914 - val_accuracy: 0.6750\n",
            "Epoch 3/8\n",
            "16/16 [==============================] - 0s 27ms/step - loss: 1.2115 - accuracy: 0.7306 - val_loss: 1.2032 - val_accuracy: 0.7270\n",
            "Epoch 4/8\n",
            "16/16 [==============================] - 0s 30ms/step - loss: 0.9922 - accuracy: 0.7835 - val_loss: 1.1058 - val_accuracy: 0.7690\n",
            "Epoch 5/8\n",
            "16/16 [==============================] - 0s 28ms/step - loss: 0.8288 - accuracy: 0.8212 - val_loss: 1.0204 - val_accuracy: 0.7800\n",
            "Epoch 6/8\n",
            "16/16 [==============================] - 0s 28ms/step - loss: 0.6928 - accuracy: 0.8503 - val_loss: 0.9752 - val_accuracy: 0.7910\n",
            "Epoch 7/8\n",
            "16/16 [==============================] - 0s 28ms/step - loss: 0.5789 - accuracy: 0.8763 - val_loss: 0.9142 - val_accuracy: 0.8010\n",
            "Epoch 8/8\n",
            "16/16 [==============================] - 0s 27ms/step - loss: 0.4831 - accuracy: 0.8950 - val_loss: 0.8879 - val_accuracy: 0.8050\n",
            "71/71 [==============================] - 0s 2ms/step - loss: 0.9746 - accuracy: 0.7841\n"
          ]
        }
      ]
    },
    {
      "cell_type": "code",
      "source": [
        "results"
      ],
      "metadata": {
        "colab": {
          "base_uri": "https://localhost:8080/"
        },
        "id": "OVniKOl9vJDM",
        "outputId": "bfccaed3-26a6-4401-f289-318194485943"
      },
      "execution_count": null,
      "outputs": [
        {
          "data": {
            "text/plain": [
              "[0.974617063999176, 0.784060537815094]"
            ]
          },
          "execution_count": 22,
          "metadata": {},
          "output_type": "execute_result"
        }
      ]
    },
    {
      "cell_type": "code",
      "source": [
        "import copy\n",
        "\n",
        "test_labels_copy = copy.copy(test_labels)\n",
        "np.random.shuffle(test_labels_copy)\n",
        "float(np.sum(np.array(test_labels) == np.array(test_labels_copy))) / len(test_labels)"
      ],
      "metadata": {
        "colab": {
          "base_uri": "https://localhost:8080/"
        },
        "id": "FApVy-GlvQUF",
        "outputId": "1ecf6753-901e-4048-ba7e-c1fd0a6d8e9d"
      },
      "execution_count": null,
      "outputs": [
        {
          "output_type": "execute_result",
          "data": {
            "text/plain": [
              "0.1794300979519145"
            ]
          },
          "metadata": {},
          "execution_count": 23
        }
      ]
    },
    {
      "cell_type": "code",
      "source": [
        "predictions = model.predict(x_test)"
      ],
      "metadata": {
        "colab": {
          "base_uri": "https://localhost:8080/"
        },
        "id": "182W9W2PvuzD",
        "outputId": "6e34c951-7fdc-4b4d-f20c-6b69ec5aff9c"
      },
      "execution_count": null,
      "outputs": [
        {
          "output_type": "stream",
          "name": "stdout",
          "text": [
            "71/71 [==============================] - 0s 2ms/step\n"
          ]
        }
      ]
    },
    {
      "cell_type": "code",
      "source": [
        "predictions[0].shape"
      ],
      "metadata": {
        "colab": {
          "base_uri": "https://localhost:8080/"
        },
        "id": "E8OaSg9tvyuD",
        "outputId": "73e31542-97b3-4306-8117-4570983dcb93"
      },
      "execution_count": null,
      "outputs": [
        {
          "output_type": "execute_result",
          "data": {
            "text/plain": [
              "(46,)"
            ]
          },
          "metadata": {},
          "execution_count": 25
        }
      ]
    },
    {
      "cell_type": "code",
      "source": [
        "np.sum(predictions[0])"
      ],
      "metadata": {
        "colab": {
          "base_uri": "https://localhost:8080/"
        },
        "id": "OQBaWjfDv1oD",
        "outputId": "a27e83d1-a81b-4124-aea2-63fc9aa63baa"
      },
      "execution_count": null,
      "outputs": [
        {
          "output_type": "execute_result",
          "data": {
            "text/plain": [
              "1.0000001"
            ]
          },
          "metadata": {},
          "execution_count": 26
        }
      ]
    },
    {
      "cell_type": "code",
      "source": [
        "np.argmax(predictions[0])"
      ],
      "metadata": {
        "colab": {
          "base_uri": "https://localhost:8080/"
        },
        "id": "C1KRQCW-v4ej",
        "outputId": "285ae79f-5855-42e8-ccc6-5ea05b7e9541"
      },
      "execution_count": null,
      "outputs": [
        {
          "output_type": "execute_result",
          "data": {
            "text/plain": [
              "3"
            ]
          },
          "metadata": {},
          "execution_count": 27
        }
      ]
    },
    {
      "cell_type": "code",
      "source": [
        "y_train = np.array(train_labels)\n",
        "y_test = np.array(test_labels)\n",
        "y_train,y_train.shape,y_train.ndim"
      ],
      "metadata": {
        "colab": {
          "base_uri": "https://localhost:8080/"
        },
        "id": "YoOyv3Mhv71a",
        "outputId": "c0879475-62c4-4eb1-9677-ecb803945de7"
      },
      "execution_count": null,
      "outputs": [
        {
          "output_type": "execute_result",
          "data": {
            "text/plain": [
              "(array([ 3,  4,  3, ..., 25,  3, 25]), (8982,), 1)"
            ]
          },
          "metadata": {},
          "execution_count": 28
        }
      ]
    },
    {
      "cell_type": "code",
      "source": [
        "model.compile(optimizer='rmsprop', loss='sparse_categorical_crossentropy', metrics=['acc'])"
      ],
      "metadata": {
        "id": "pCkIr7x6wAEt"
      },
      "execution_count": null,
      "outputs": []
    },
    {
      "cell_type": "code",
      "source": [
        "model = models.Sequential()\n",
        "model.add(layers.Dense(64, activation='relu', input_shape=(10000,)))\n",
        "model.add(layers.Dense(4, activation='relu'))\n",
        "model.add(layers.Dense(46, activation='softmax'))\n",
        "\n",
        "model.compile(optimizer='rmsprop',\n",
        "              loss='categorical_crossentropy',\n",
        "              metrics=['accuracy'])\n",
        "model.fit(partial_x_train,\n",
        "          partial_y_train,\n",
        "          epochs=20,\n",
        "          batch_size=128,\n",
        "          validation_data=(x_val, y_val))"
      ],
      "metadata": {
        "colab": {
          "base_uri": "https://localhost:8080/"
        },
        "id": "hZtnbcSHwEfm",
        "outputId": "8f7b919e-a218-4dc3-d493-a1b434066be0"
      },
      "execution_count": null,
      "outputs": [
        {
          "output_type": "stream",
          "name": "stdout",
          "text": [
            "Epoch 1/20\n",
            "63/63 [==============================] - 2s 24ms/step - loss: 3.2730 - accuracy: 0.2271 - val_loss: 2.6718 - val_accuracy: 0.3320\n",
            "Epoch 2/20\n",
            "63/63 [==============================] - 1s 19ms/step - loss: 2.0510 - accuracy: 0.6090 - val_loss: 1.6584 - val_accuracy: 0.6720\n",
            "Epoch 3/20\n",
            "63/63 [==============================] - 1s 10ms/step - loss: 1.3499 - accuracy: 0.7057 - val_loss: 1.4132 - val_accuracy: 0.6830\n",
            "Epoch 4/20\n",
            "63/63 [==============================] - 1s 9ms/step - loss: 1.1681 - accuracy: 0.7211 - val_loss: 1.3327 - val_accuracy: 0.7000\n",
            "Epoch 5/20\n",
            "63/63 [==============================] - 1s 10ms/step - loss: 1.0645 - accuracy: 0.7353 - val_loss: 1.3147 - val_accuracy: 0.6950\n",
            "Epoch 6/20\n",
            "63/63 [==============================] - 1s 9ms/step - loss: 0.9850 - accuracy: 0.7483 - val_loss: 1.3003 - val_accuracy: 0.6970\n",
            "Epoch 7/20\n",
            "63/63 [==============================] - 1s 10ms/step - loss: 0.9178 - accuracy: 0.7536 - val_loss: 1.2927 - val_accuracy: 0.7060\n",
            "Epoch 8/20\n",
            "63/63 [==============================] - 1s 10ms/step - loss: 0.8592 - accuracy: 0.7719 - val_loss: 1.2884 - val_accuracy: 0.6980\n",
            "Epoch 9/20\n",
            "63/63 [==============================] - 1s 9ms/step - loss: 0.8055 - accuracy: 0.7825 - val_loss: 1.3030 - val_accuracy: 0.7010\n",
            "Epoch 10/20\n",
            "63/63 [==============================] - 1s 9ms/step - loss: 0.7611 - accuracy: 0.7945 - val_loss: 1.3018 - val_accuracy: 0.6990\n",
            "Epoch 11/20\n",
            "63/63 [==============================] - 1s 9ms/step - loss: 0.7187 - accuracy: 0.8039 - val_loss: 1.3480 - val_accuracy: 0.6950\n",
            "Epoch 12/20\n",
            "63/63 [==============================] - 1s 9ms/step - loss: 0.6836 - accuracy: 0.8115 - val_loss: 1.3469 - val_accuracy: 0.7040\n",
            "Epoch 13/20\n",
            "63/63 [==============================] - 1s 10ms/step - loss: 0.6500 - accuracy: 0.8202 - val_loss: 1.3950 - val_accuracy: 0.6980\n",
            "Epoch 14/20\n",
            "63/63 [==============================] - 1s 10ms/step - loss: 0.6210 - accuracy: 0.8252 - val_loss: 1.4452 - val_accuracy: 0.7040\n",
            "Epoch 15/20\n",
            "63/63 [==============================] - 1s 12ms/step - loss: 0.5981 - accuracy: 0.8292 - val_loss: 1.4053 - val_accuracy: 0.7120\n",
            "Epoch 16/20\n",
            "63/63 [==============================] - 1s 14ms/step - loss: 0.5698 - accuracy: 0.8376 - val_loss: 1.4432 - val_accuracy: 0.7020\n",
            "Epoch 17/20\n",
            "63/63 [==============================] - 1s 12ms/step - loss: 0.5522 - accuracy: 0.8386 - val_loss: 1.4620 - val_accuracy: 0.7040\n",
            "Epoch 18/20\n",
            "63/63 [==============================] - 1s 10ms/step - loss: 0.5265 - accuracy: 0.8452 - val_loss: 1.4977 - val_accuracy: 0.7010\n",
            "Epoch 19/20\n",
            "63/63 [==============================] - 1s 9ms/step - loss: 0.5120 - accuracy: 0.8485 - val_loss: 1.5305 - val_accuracy: 0.7010\n",
            "Epoch 20/20\n",
            "63/63 [==============================] - 1s 10ms/step - loss: 0.4918 - accuracy: 0.8545 - val_loss: 1.5579 - val_accuracy: 0.6950\n"
          ]
        },
        {
          "output_type": "execute_result",
          "data": {
            "text/plain": [
              "<keras.src.callbacks.History at 0x7bdc00f24310>"
            ]
          },
          "metadata": {},
          "execution_count": 30
        }
      ]
    }
  ]
}